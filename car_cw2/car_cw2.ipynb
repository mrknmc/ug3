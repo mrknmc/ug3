{
 "metadata": {
  "name": "",
  "signature": "sha256:561d6275dd26871c3c74d8516f6769a94b859d77eab4acdac553ae2e5b3748d3"
 },
 "nbformat": 3,
 "nbformat_minor": 0,
 "worksheets": [
  {
   "cells": [
    {
     "cell_type": "markdown",
     "metadata": {},
     "source": [
      "<center>Mark Nemec - s1140740 | Tutor: Boris Grot</center>\n",
      "\n",
      "# <center>Computer Architecture Assignment 1</center>"
     ]
    },
    {
     "cell_type": "markdown",
     "metadata": {},
     "source": [
      "The purpose of this report is to describe the internal structure of the cache simulator built for this assignment and summarise the experiments performed on it. The language of my choice is Python. I implemented the cache in a function called `set_associative` in a file called `cache.py`.\n",
      "\n",
      "Furthermore, I wrote a `main` function which just opens the supplied file and runs the `set_associative` function on it and a helper generator function `parse` which loops over the lines of the file and yields the opcode, the tag, the index and the offset of the instruction. It also resets the file pointer after it exits the file loop.\n"
     ]
    },
    {
     "cell_type": "markdown",
     "metadata": {},
     "source": [
      "## Internal Structure and Workings of the Simulator\n",
      "\n",
      "### Parsing the file\n",
      "\n",
      "Below is the function used for parsing the file. As arguments it takes the file used, the size of the offset and the size of the index in bits. Using these sizes it creates the bitmasks used for getting out the offset, index and the tag."
     ]
    },
    {
     "cell_type": "code",
     "collapsed": false,
     "input": [
      "def parse(file_, offset_size, index_size):\n",
      "    \"\"\"\n",
      "    Generator that parses a given file.\n",
      "        :param file_: file to parse.\n",
      "        :param offset_size: number of bits used for the offset.\n",
      "        :param index_size: number of bits used for the index.\n",
      "        :returns: quadruple of the operation (R|W), tag, index and offset.\n",
      "    \"\"\"\n",
      "    offset_mask = pow(2, offset_size) - 1\n",
      "    index_mask = pow(2, index_size) - 1\n",
      "\n",
      "    for line in file_:\n",
      "        op, addr = line.split()\n",
      "        addr = int(addr, 16)\n",
      "\n",
      "        # get offset with a bitmask then shift\n",
      "        offset = addr & offset_mask\n",
      "        addr = addr >> offset_size\n",
      "\n",
      "        # get index with a bitmask then shift\n",
      "        index = addr & index_mask\n",
      "        addr = addr >> index_size\n",
      "\n",
      "        # now only tag left\n",
      "        tag = addr\n",
      "\n",
      "        yield op, tag, index, offset\n",
      "\n",
      "    file_.seek(0)  # reset file pointer"
     ],
     "language": "python",
     "metadata": {},
     "outputs": [],
     "prompt_number": 2
    },
    {
     "cell_type": "code",
     "collapsed": false,
     "input": [
      "def set_associative(file_, size=4096, block=32, sets=1):\n",
      "    \"\"\"\n",
      "    Simulates a set-associative cache.\n",
      "        :param file_: trace file to be used for simulation.\n",
      "        :param size: size of the cache in bytes\n",
      "        :param block: size of a block of memory in bytes.\n",
      "        :param sets: set-associativity.\n",
      "        :returns: total number of operations, missed number of operations\n",
      "    \"\"\"\n",
      "    cache = {}\n",
      "    total = {'R': 0, 'W': 0}\n",
      "    misses = {'R': 0, 'W': 0}\n",
      "\n",
      "    offset_size = int(log(block, 2))  # e.g. need 5 bits for 32 bytes\n",
      "    index_size = int(log(size / block / float(sets), 2))\n",
      "\n",
      "    for op, tag, index, offset in parse(file_, offset_size, index_size):\n",
      "        total[op] += 1\n",
      "\n",
      "        if index not in cache:\n",
      "            # not in cache - add it\n",
      "            misses[op] += 1\n",
      "            cache[index] = deque([tag], maxlen=sets)\n",
      "        else:\n",
      "            if tag not in cache[index]:\n",
      "                # append to the end, LRU will be popped\n",
      "                misses[op] += 1\n",
      "                cache[index].append(tag)\n",
      "            else:\n",
      "                # not very efficient but simple\n",
      "                cache[index].remove(tag)\n",
      "                cache[index].append(tag)\n",
      "\n",
      "    return total, misses"
     ],
     "language": "python",
     "metadata": {},
     "outputs": [],
     "prompt_number": 1
    },
    {
     "cell_type": "code",
     "collapsed": false,
     "input": [],
     "language": "python",
     "metadata": {},
     "outputs": []
    }
   ],
   "metadata": {}
  }
 ]
}